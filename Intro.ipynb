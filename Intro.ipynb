{
  "nbformat": 4,
  "nbformat_minor": 0,
  "metadata": {
    "colab": {
      "provenance": [],
      "include_colab_link": true
    },
    "kernelspec": {
      "display_name": "Python 3",
      "language": "python",
      "name": "python3"
    },
    "language_info": {
      "codemirror_mode": {
        "name": "ipython",
        "version": 3
      },
      "file_extension": ".py",
      "mimetype": "text/x-python",
      "name": "python",
      "nbconvert_exporter": "python",
      "pygments_lexer": "ipython3",
      "version": "3.7.7"
    }
  },
  "cells": [
    {
      "cell_type": "markdown",
      "metadata": {
        "id": "view-in-github",
        "colab_type": "text"
      },
      "source": [
        "<a href=\"https://colab.research.google.com/github/tracieschroeder/CodingCamp/blob/main/Intro.ipynb\" target=\"_parent\"><img src=\"https://colab.research.google.com/assets/colab-badge.svg\" alt=\"Open In Colab\"/></a>"
      ]
    },
    {
      "cell_type": "markdown",
      "metadata": {
        "id": "gFcsa6oKKgGt"
      },
      "source": [
        "Click \"Copy to Drive\" (above &#8593;) or go to **File > Save a Copy in Drive** so you'll have your own version to work on. That requires a Google login. If you want to start over from scratch, open the [original activity here](https://colab.research.google.com/drive/1PXdw9IqS0REhiSEial5Hg6DU6cAfAHkg?usp=sharing).  \n",
        "\n",
        "# Intro To Coding\n",
        "\n",
        "In this activity you will learn to:  \n",
        "- run and edit Python code\n",
        "- read comments in Python\n",
        "- run code in order\n",
        "- import software modules  \n",
        "\n",
        "<hr/>\n",
        "\n",
        "# Part 1: Running Python code  \n",
        "There are two ways to run the code below:\n",
        "- press SHIFT and ENTER at the same time\n",
        "- click on the play button (&#9658;) to the left of the code  \n",
        "\n",
        "Click \"run anyway\" on the popup window. It happens the first time you run this code telling you it loads from GitHub (it's totally safe, that's why we use it).\n",
        "\n",
        "Run each block of code to see what it does. Look for hidden messages, too. They're called *comments* and they start with #."
      ]
    },
    {
      "cell_type": "code",
      "metadata": {
        "id": "UTkmNnoadCOR",
        "colab": {
          "base_uri": "https://localhost:8080/"
        },
        "outputId": "0b753b41-c764-46eb-e827-ee11e127a3a7"
      },
      "source": [
        "1+1     # run this block of code to see the answer to 1+1"
      ],
      "execution_count": 1,
      "outputs": [
        {
          "output_type": "execute_result",
          "data": {
            "text/plain": [
              "2"
            ]
          },
          "metadata": {},
          "execution_count": 1
        }
      ]
    },
    {
      "cell_type": "code",
      "metadata": {
        "id": "Zra5XaIuFxXx",
        "colab": {
          "base_uri": "https://localhost:8080/"
        },
        "outputId": "180a55f0-be14-47b1-c023-cb529b38509c"
      },
      "source": [
        "10/2    # Python is a coding language that can do math. Yay!"
      ],
      "execution_count": 2,
      "outputs": [
        {
          "output_type": "execute_result",
          "data": {
            "text/plain": [
              "5.0"
            ]
          },
          "metadata": {},
          "execution_count": 2
        }
      ]
    },
    {
      "cell_type": "code",
      "metadata": {
        "id": "a08YbU6KF5jS",
        "colab": {
          "base_uri": "https://localhost:8080/"
        },
        "outputId": "39903efa-ea04-4e83-b9d3-81927b8064ae"
      },
      "source": [
        "# This is a comment. Python doesn't read lines that start with #\n",
        "\n",
        "2*3   # a comment can come after code on the same line, too"
      ],
      "execution_count": 3,
      "outputs": [
        {
          "output_type": "execute_result",
          "data": {
            "text/plain": [
              "6"
            ]
          },
          "metadata": {},
          "execution_count": 3
        }
      ]
    },
    {
      "cell_type": "markdown",
      "metadata": {
        "id": "akBt4UjuF_Cd"
      },
      "source": [
        "**Challenge**  \n",
        "- Edit the code above to solve a different math problems in each section, change each line and add, divide and multiply different numbers. You'll have to run the block of code again to see the new answer.  \n",
        "\n",
        "<hr/>\n",
        "\n",
        "# Part 2: Order is everything\n",
        "A program works in a sequence. Running code out of order often won't work.\n"
      ]
    },
    {
      "cell_type": "code",
      "metadata": {
        "id": "2DiPkRuSF7Nl",
        "colab": {
          "base_uri": "https://localhost:8080/"
        },
        "outputId": "d46b84e1-675c-4361-c28c-e81bc8c3ac80"
      },
      "source": [
        "a = 5   # this line creates a variable called \"a\" and sets it equal to 5\n",
        "a*2     # this line multiplies a times 2. If a=5, then we should get 10 below for the answer"
      ],
      "execution_count": 4,
      "outputs": [
        {
          "output_type": "execute_result",
          "data": {
            "text/plain": [
              "10"
            ]
          },
          "metadata": {},
          "execution_count": 4
        }
      ]
    },
    {
      "cell_type": "code",
      "metadata": {
        "id": "dsAvgo1SGOpS",
        "colab": {
          "base_uri": "https://localhost:8080/"
        },
        "outputId": "08306392-d47c-4324-e02d-a4691aca66bb"
      },
      "source": [
        "2*b # we didn't tell the program what b equals, so this gives an error"
      ],
      "execution_count": 8,
      "outputs": [
        {
          "output_type": "execute_result",
          "data": {
            "text/plain": [
              "6"
            ]
          },
          "metadata": {},
          "execution_count": 8
        }
      ]
    },
    {
      "cell_type": "code",
      "metadata": {
        "id": "uzVo9uLKGQJ_"
      },
      "source": [
        "b=3 # running this code will tell the program what b equals. Then, try running the block of code above again."
      ],
      "execution_count": 7,
      "outputs": []
    },
    {
      "cell_type": "markdown",
      "source": [
        "**Challenge**\n",
        "- Write a math problem using only variables, no numbers, like **a times b**.  \n",
        "- Write a math problem using +, -, *, /, and (  ).\n",
        "- Create another variable and multiply it by **a**.  \n",
        "\n",
        "<hr/>\n",
        "\n",
        "# Part 3: Importing modules  \n",
        "The Python language can do some math by itself. To do more complex tasks, we have to import other software called *modules*."
      ],
      "metadata": {
        "id": "anbCHuCUU3zD"
      }
    },
    {
      "cell_type": "code",
      "metadata": {
        "id": "3w5FcXQwGSSF"
      },
      "source": [
        "# numpy is a module to let you do numerical operations in Python\n",
        "import numpy"
      ],
      "execution_count": 9,
      "outputs": []
    },
    {
      "cell_type": "code",
      "metadata": {
        "id": "SUN5b606GfGK",
        "colab": {
          "base_uri": "https://localhost:8080/"
        },
        "outputId": "ac19635a-2e57-44e2-bdef-e87367ce06a8"
      },
      "source": [
        "# numpy has a function called \"sqrt\" that calculates the square root of a number\n",
        "numpy.sqrt(9)   # what's the square root of 9?"
      ],
      "execution_count": 10,
      "outputs": [
        {
          "output_type": "execute_result",
          "data": {
            "text/plain": [
              "3.0"
            ]
          },
          "metadata": {},
          "execution_count": 10
        }
      ]
    },
    {
      "cell_type": "code",
      "metadata": {
        "id": "9MUd-bIPGsIp",
        "colab": {
          "base_uri": "https://localhost:8080/"
        },
        "outputId": "a3d852a4-838a-4d21-c182-a9ba101e2222"
      },
      "source": [
        "# you can give modules a nickame when you import them, too\n",
        "\n",
        "import numpy as np   # now you can type \"np\" instead of \"numpy\"\n",
        "np.sqrt(4)           # what's the square root of 4?"
      ],
      "execution_count": 11,
      "outputs": [
        {
          "output_type": "execute_result",
          "data": {
            "text/plain": [
              "2.0"
            ]
          },
          "metadata": {},
          "execution_count": 11
        }
      ]
    },
    {
      "cell_type": "code",
      "metadata": {
        "id": "kLSGKEt-G3-L",
        "colab": {
          "base_uri": "https://localhost:8080/",
          "height": 430
        },
        "outputId": "20942fd4-980d-4ae5-b7e3-392e9c09c48c"
      },
      "source": [
        "# some modules have long names, so a nickname is handy\n",
        "\n",
        "import matplotlib.pyplot as plt         # \"plt\" is much shorter\n",
        "plt.scatter([10,20,30,40,50], [0,1,3,4,5], color='blue', edgecolor='red');   # this makes a scatterplot!"
      ],
      "execution_count": 13,
      "outputs": [
        {
          "output_type": "display_data",
          "data": {
            "text/plain": [
              "<Figure size 640x480 with 1 Axes>"
            ],
            "image/png": "[encoded data removed]"
          },
          "metadata": {}
        }
      ]
    },
    {
      "cell_type": "code",
      "source": [],
      "metadata": {
        "id": "9NDJItRpXzjY"
      },
      "execution_count": 13,
      "outputs": []
    },
    {
      "cell_type": "code",
      "metadata": {
        "colab": {
          "base_uri": "https://localhost:8080/",
          "height": 430
        },
        "outputId": "fdafde53-f2a2-4ffa-cbbd-97681db10764",
        "id": "bQT3-93PXz7f"
      },
      "source": [
        "# some modules have long names, so a nickname is handy\n",
        "\n",
        "import matplotlib.pyplot as plt         # \"plt\" is much shorter\n",
        "plt.scatter([10,20,30,40,50], [0,1,3,4,5], color='green', edgecolor='black');   # this makes a scatterplot!"
      ],
      "execution_count": 14,
      "outputs": [
        {
          "output_type": "display_data",
          "data": {
            "text/plain": [
              "<Figure size 640x480 with 1 Axes>"
            ],
            "image/png": "[encoded data removed]"
          },
          "metadata": {}
        }
      ]
    },
    {
      "cell_type": "markdown",
      "metadata": {
        "id": "297F-IZ3SbJX"
      },
      "source": [
        "**Challenge**\n",
        "- Change the colors of the graph to green and black.\n",
        "- Numpy has a function called *round* that will round a decimal number. Try using it like you used the *sqrt* function.  \n",
        "\n",
        "# Part 4: Markdown  \n",
        "The text in this notebook that isn't code, like this sentence, is called *markdown*. You can double-click on this text to see the markdown code underneath. Like usual, press SHIFT+ENTER to turn the markdown code into pretty, formatted text again. Markdown lets us write text with formatting like:  \n",
        "- bullet lists  \n",
        "- *italics*  \n",
        "- **bold** text\n",
        "- section headings  \n",
        "- [links](https://xkcd.com/665/)\n",
        "- images  \n",
        "\n",
        "![cute kitten](https://github.com/adamlamee/CODINGinK12/raw/master/notebooks/1dayoldkitten.png)\n",
        "\n",
        "**Challenge**\n",
        "- **Make this sentence bold.**  \n",
        "- *Make this sentence in italics.*\n",
        "- Add a 4th bullet point below this one, with a link! Then add a 5th bullet underneath. Below that, an image!\n",
        "- (https://docs.google.com/document/d/1KsSbEG4o8U1yH6XrFrHP2f0lhe_fJQ9NeLnkaOGUmZg/edit?usp=sharing)\n",
        "\n",
        "\n",
        "# Self-Check  \n",
        "- Were you able to run the Python code? For example, could you add or multiply numbers and see the answer?  \n",
        "- Could you edit the code to produce different output?\n",
        "- Did you find the comments? They start with # and are messages to people reading the code.\n",
        "- Can you explain what's wrong with running \"c=2\" then \"c+d\"?\n",
        "- Can you name two Python software modules? Hint: you imported them.  \n",
        "- Could you edit a markdown cell and do some formatting, like a bulleted list, **bold**, or *italics*?  \n",
        "\n",
        "<hr/>  \n",
        "\n",
        "# Credits\n",
        "This notebook was written by [Adam LaMee](http://www.adamlamee.com). For license and more information visit [CODINGinK12.org](http://www.codingink12.org)."
      ]
    }
  ]
}