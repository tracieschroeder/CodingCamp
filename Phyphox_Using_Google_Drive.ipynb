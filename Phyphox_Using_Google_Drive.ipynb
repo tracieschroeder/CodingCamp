{
  "nbformat": 4,
  "nbformat_minor": 0,
  "metadata": {
    "colab": {
      "private_outputs": true,
      "provenance": [],
      "include_colab_link": true
    },
    "kernelspec": {
      "name": "python3",
      "display_name": "Python 3"
    },
    "language_info": {
      "name": "python"
    }
  },
  "cells": [
    {
      "cell_type": "markdown",
      "metadata": {
        "id": "view-in-github",
        "colab_type": "text"
      },
      "source": [
        "<a href=\"https://colab.research.google.com/github/tracieschroeder/CodingCamp/blob/main/Phyphox_Using_Google_Drive.ipynb\" target=\"_parent\"><img src=\"https://colab.research.google.com/assets/colab-badge.svg\" alt=\"Open In Colab\"/></a>"
      ]
    },
    {
      "cell_type": "markdown",
      "source": [
        "The purpose of this notebook is to use data collected in a mobile app called [Phyphox](https://phyphox.org/). This app uses sensors such as the accelerometer in your mobile device to collect data. That data can be exported as a csv file and analyzed in a colab notebook."
      ],
      "metadata": {
        "id": "mmPqEqkT8OY3"
      }
    },
    {
      "cell_type": "markdown",
      "source": [
        "#Step 1\n",
        "Take data in the app. For example, use the Acceleration option as you ride up or down an elevator.\n",
        "\n",
        "Once you have taken the data, click on the three vertical dots at the top and click on Export Data.\n",
        "\n",
        "Choose Excel and save to your files to Google Drive. If prompted to extract, say yes.\n",
        "\n",
        "Upload the Raw Data csv file to the desired folder in google drive."
      ],
      "metadata": {
        "id": "oCON6RyH8unF"
      }
    },
    {
      "cell_type": "markdown",
      "source": [
        "# Setup Colab for Analysis"
      ],
      "metadata": {
        "id": "HTgxP9RJiKun"
      }
    },
    {
      "cell_type": "code",
      "source": [
        "# Import useful modules\n",
        "import pandas as pd\n",
        "import numpy as np\n",
        "from matplotlib import pyplot as plt"
      ],
      "metadata": {
        "id": "q-ITYJSbe7pr"
      },
      "execution_count": null,
      "outputs": []
    },
    {
      "cell_type": "markdown",
      "source": [
        "#Google Drive Instructions\n",
        "\n",
        "Open the file.\n",
        "\n",
        "Go to File: Share: Publish to Web\n",
        "\n",
        "In the pop up menu, change \"Web Page\" to \"Comma Separated Values\"\n",
        "\n",
        "Click Publish and then OK\n",
        "\n",
        "Copy the link in the box to paste into your code.\n"
      ],
      "metadata": {
        "id": "KZmTCPsXCOPm"
      }
    },
    {
      "cell_type": "code",
      "source": [
        "data = pd.read_csv('https://docs.google.com/spreadsheets/d/e/2PACX-1vTmpSAdFQB1M73boFB25ACPdhW2w2RAqtycUJix51KFVsJJyPKh8lU33qn7os1G1A/pub?output=csv')\n",
        "data.head(5)"
      ],
      "metadata": {
        "id": "4KOD-pSTBN6y"
      },
      "execution_count": null,
      "outputs": []
    },
    {
      "cell_type": "markdown",
      "source": [
        "## Cleaning the Data"
      ],
      "metadata": {
        "id": "r9ATYk-gjOCS"
      }
    },
    {
      "cell_type": "markdown",
      "source": [
        "If you want to rename the columns in your table you can use this syntax\n",
        "\n",
        "```python\n",
        "data = data.rename(columns={'old_name1': 'new_name1', 'old_name2': 'new_name2'})\n",
        "```"
      ],
      "metadata": {
        "id": "VlwuJ0tHjR93"
      }
    },
    {
      "cell_type": "code",
      "source": [
        "# Use this block if you want to rename the columns"
      ],
      "metadata": {
        "id": "ymsbkLA-j4IB"
      },
      "execution_count": null,
      "outputs": []
    },
    {
      "cell_type": "markdown",
      "source": [
        "# Analyze your data"
      ],
      "metadata": {
        "id": "e4T6P0rBgBko"
      }
    },
    {
      "cell_type": "code",
      "source": [
        "# Use me to create a graph, or whatever else you need to do!"
      ],
      "metadata": {
        "id": "NCkUCYoWgfxb"
      },
      "execution_count": null,
      "outputs": []
    },
    {
      "cell_type": "markdown",
      "source": [
        "Use me to summarize your results"
      ],
      "metadata": {
        "id": "ldA9i01qgkSN"
      }
    }
  ]
}