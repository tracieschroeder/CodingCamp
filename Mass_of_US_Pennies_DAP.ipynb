{
  "nbformat": 4,
  "nbformat_minor": 0,
  "metadata": {
    "colab": {
      "provenance": [],
      "authorship_tag": "ABX9TyPrS82YkFTi9fy65gMpB0/z",
      "include_colab_link": true
    },
    "kernelspec": {
      "name": "python3",
      "display_name": "Python 3"
    },
    "language_info": {
      "name": "python"
    }
  },
  "cells": [
    {
      "cell_type": "markdown",
      "metadata": {
        "id": "view-in-github",
        "colab_type": "text"
      },
      "source": [
        "<a href=\"https://colab.research.google.com/github/tracieschroeder/CodingCamp/blob/main/Mass_of_US_Pennies_DAP.ipynb\" target=\"_parent\"><img src=\"https://colab.research.google.com/assets/colab-badge.svg\" alt=\"Open In Colab\"/></a>"
      ]
    },
    {
      "cell_type": "markdown",
      "source": [
        "Particle physicists use graphs like the one shown to look at the results of their experiments. By putting mass readings on a histogram, they can see that the peaks show separate particles.\n",
        "\n",
        "![histogram](https://github.com/tracieschroeder/CodingCamp/raw/main/histogram.png)\n",
        "\n",
        "Since we don’t have ready access to particles or machines to make them, we are going to look at something more readily available: U.S. pennies. There are lots of pennies in circulation.\n",
        "- Are they all the same?\n",
        "- They all represent $0.01 and may be similar in color, but is that the only thing that they have in common?"
      ],
      "metadata": {
        "id": "wxWKEXn0kyVE"
      }
    },
    {
      "cell_type": "markdown",
      "source": [
        "#Obtain 10 Pennies\n",
        "Begin by brainstorming characteristics of a U.S. penny. Identify the characteristics that can be measured or described with a number value. Measure and record as many properties of each penny as you can observe. Be sure the mass in grams is one of them!"
      ],
      "metadata": {
        "id": "hSyqqEG1Rupg"
      }
    },
    {
      "cell_type": "markdown",
      "source": [
        "Find the mass of each penny to the nearest 0.1 gram. Write this mass onto a sticky note."
      ],
      "metadata": {
        "id": "n5un8tDoSPSn"
      }
    },
    {
      "cell_type": "markdown",
      "source": [
        "Sort your sticky notes into \"bins\" so that it makes a “frequency” graph with masses in 0.1 g bins and the number of pennies that fall in each bin. This is a histogram showing the number of pennies in each mass range.\n",
        "\n",
        "- Do you see any patterns?\n",
        "- What do you think you could conclude about the massess of the pennies?"
      ],
      "metadata": {
        "id": "95ZIxwvhSPVq"
      }
    },
    {
      "cell_type": "markdown",
      "source": [
        "#We can also use this data to create a digital histogram.\n",
        "\n",
        "Use your group data to enter the mass of each penny into a separate box below."
      ],
      "metadata": {
        "id": "n8JEavAVnLfL"
      }
    },
    {
      "cell_type": "code",
      "source": [
        "A1 = 2.367 # @param {type:\"number\"}\n",
        "A2 = 2.4549 # @param {type:\"number\"}\n",
        "A3 = 3.5428 # @param {type:\"number\"}\n",
        "A4 = 2.6307 # @param {type:\"number\"}\n",
        "A5 = 2.7186 # @param {type:\"number\"}\n",
        "A6 = 2.8065 # @param {type:\"number\"}\n",
        "A7 = 2.8944 # @param {type:\"number\"}\n",
        "A8 = 3.0823 # @param {type:\"number\"}\n",
        "A9 = 3.0702 # @param {type:\"number\"}\n",
        "A10 = 3.1581 # @param {type:\"number\"}"
      ],
      "metadata": {
        "id": "kArF3v-aaWzE"
      },
      "execution_count": null,
      "outputs": []
    },
    {
      "cell_type": "code",
      "source": [
        "import matplotlib.pyplot as plt\n",
        "import numpy as np\n",
        "A=[A1,A2,A3,A4,A5,A6,A7,A8,A9,A10]\n",
        "bin_list = np.array([2.000, 2.500, 3.000, 3.500])\n",
        "plt.hist(A,bins=np.subtract(bin_list,0.05), color='lightblue', edgecolor = 'black', log=False);"
      ],
      "metadata": {
        "colab": {
          "base_uri": "https://localhost:8080/",
          "height": 430
        },
        "id": "vrh7ljMDjMA3",
        "outputId": "c3f6143c-0909-47eb-a4e5-0b2391d5bfed"
      },
      "execution_count": null,
      "outputs": [
        {
          "output_type": "display_data",
          "data": {
            "text/plain": [
              "<Figure size 640x480 with 1 Axes>"
            ],
            "image/png": "[encoded data removed]"
          },
          "metadata": {}
        }
      ]
    },
    {
      "cell_type": "code",
      "source": [
        "import matplotlib.pyplot as plt\n",
        "import numpy as np\n",
        "A=[A1,A2,A3,A4,A5,A6,A7,A8,A9,A10]\n",
        "\n",
        "\n",
        "myBins = []\n",
        "i = 0\n",
        "while (i <=4):\n",
        "  myBins.append(round(i,1))\n",
        "  i = i + 0.1\n",
        "\n",
        "bin_list = myBins\n",
        "plt.hist(A,bins=np.subtract(bin_list,0.01), color='lightblue', edgecolor = 'black', log=False);"
      ],
      "metadata": {
        "colab": {
          "base_uri": "https://localhost:8080/",
          "height": 430
        },
        "outputId": "6868c00f-7f98-4f78-a8d5-1be3008e751f",
        "id": "VDTW7wfWjGOW"
      },
      "execution_count": null,
      "outputs": [
        {
          "output_type": "display_data",
          "data": {
            "text/plain": [
              "<Figure size 640x480 with 1 Axes>"
            ],
            "image/png": "[encoded data removed]"
          },
          "metadata": {}
        }
      ]
    },
    {
      "cell_type": "markdown",
      "source": [
        "How does your digital histogram compare to your sticky note histogram?"
      ],
      "metadata": {
        "id": "EPmE6lM1HQho"
      }
    },
    {
      "cell_type": "markdown",
      "source": [
        "#More Data\n",
        "Now make a histogram using all of the class data.\n",
        "- Do your patterns change?\n",
        "- What do you think you could conclude about the massess of the pennies?"
      ],
      "metadata": {
        "id": "aAxmq62jSPcC"
      }
    },
    {
      "cell_type": "markdown",
      "source": [
        "Answer the following questions on another sheet of paper. Show all calculations.\n",
        "1. Describe the masses of the pennies in your set. Be as specific as you can.\n",
        "2. Describe the masses of the pennies in the class set. Are there any differences between your set of data and the class set?\n",
        "3. Can you suggest an explanation for the mass distribution that you see? What evidence can you provide to support your explanation?\n",
        "4. Are there more pennies from more recent years or from prior years? Can you suggest an explanation for this? How would you test this idea?\n",
        "5. Which year is represented by the most pennies? By the second most? By the third most?\n",
        "6. What conclusion can you draw based on the evidence provided by your two histograms?\n",
        "7. What additional measurements might you make to learn more? What tools might you need?"
      ],
      "metadata": {
        "id": "2uYiJ2yEXhLG"
      }
    },
    {
      "cell_type": "markdown",
      "source": [
        "#Lots of Data\n",
        "\n",
        "You may have noticed that the more sticky notes you added to your histogram, the more patterns began to emerge. Let's see if we can get an even better picture with a very large data set."
      ],
      "metadata": {
        "id": "VRnd5p6HXhhG"
      }
    },
    {
      "cell_type": "markdown",
      "source": [
        "First, we will need to import a few libraries. We need pandas so we can read our data file.\n",
        "Numpy,\n",
        "matplotlib,\n",
        "matplotlib.pyplot"
      ],
      "metadata": {
        "id": "bwYVLz6UlNMV"
      }
    },
    {
      "cell_type": "code",
      "source": [
        "import pandas as pd\n",
        "from math import cos, sin, pi\n",
        "import matplotlib as mpl"
      ],
      "metadata": {
        "id": "F49NP-nPlZzv"
      },
      "execution_count": null,
      "outputs": []
    },
    {
      "cell_type": "markdown",
      "source": [
        "The next thing we need is our data. The information we want to use is stored as a csv file in excel. We want to import this into our notebook.\n",
        "\n",
        "The pandas library is what allows us to be able to read the csv file stored on github."
      ],
      "metadata": {
        "id": "LB-iAo1dlm-v"
      }
    },
    {
      "cell_type": "code",
      "source": [
        "data = pd.read_csv(\"https://github.com/tracieschroeder/CodingCamp/raw/main/Penny_Mass_Data_Set.csv\")"
      ],
      "metadata": {
        "id": "lk53qFUMlx4g"
      },
      "execution_count": null,
      "outputs": []
    },
    {
      "cell_type": "markdown",
      "source": [
        "Where is our data? Why can't we see anything?\n",
        "\n",
        "We haven't told the computer to print it yet. Remove the hashtag below and play that cell."
      ],
      "metadata": {
        "id": "DDUKbszDoQwk"
      }
    },
    {
      "cell_type": "code",
      "source": [
        "data.head(10)\n",
        "#Take the .head(5) out of the student version and add a hashtag to the front\n"
      ],
      "metadata": {
        "id": "cXlQzs7BobGY",
        "colab": {
          "base_uri": "https://localhost:8080/",
          "height": 363
        },
        "outputId": "caa74f7c-1fa4-4721-e0ac-4f3a55d15410"
      },
      "execution_count": null,
      "outputs": [
        {
          "output_type": "execute_result",
          "data": {
            "text/plain": [
              "   Year    Mass Mint\n",
              "0  1983  2.5232    D\n",
              "1  2000  2.5010    P\n",
              "2  1983  2.5138    D\n",
              "3  1977  3.1005    D\n",
              "4  2006  2.4854    P\n",
              "5  1996  2.5204    P\n",
              "6  1999  2.5070    D\n",
              "7  2002  2.4943    D\n",
              "8  2001  2.4994    D\n",
              "9  2001  2.4943    D"
            ],
            "text/html": [
              "\n",
              "  <div id=\"df-89ed7e22-e25a-4ac3-90a9-81c08776ebfe\" class=\"colab-df-container\">\n",
              "    <div>\n",
              "<style scoped>\n",
              "    .dataframe tbody tr th:only-of-type {\n",
              "        vertical-align: middle;\n",
              "    }\n",
              "\n",
              "    .dataframe tbody tr th {\n",
              "        vertical-align: top;\n",
              "    }\n",
              "\n",
              "    .dataframe thead th {\n",
              "        text-align: right;\n",
              "    }\n",
              "</style>\n",
              "<table border=\"1\" class=\"dataframe\">\n",
              "  <thead>\n",
              "    <tr style=\"text-align: right;\">\n",
              "      <th></th>\n",
              "      <th>Year</th>\n",
              "      <th>Mass</th>\n",
              "      <th>Mint</th>\n",
              "    </tr>\n",
              "  </thead>\n",
              "  <tbody>\n",
              "    <tr>\n",
              "      <th>0</th>\n",
              "      <td>1983</td>\n",
              "      <td>2.5232</td>\n",
              "      <td>D</td>\n",
              "    </tr>\n",
              "    <tr>\n",
              "      <th>1</th>\n",
              "      <td>2000</td>\n",
              "      <td>2.5010</td>\n",
              "      <td>P</td>\n",
              "    </tr>\n",
              "    <tr>\n",
              "      <th>2</th>\n",
              "      <td>1983</td>\n",
              "      <td>2.5138</td>\n",
              "      <td>D</td>\n",
              "    </tr>\n",
              "    <tr>\n",
              "      <th>3</th>\n",
              "      <td>1977</td>\n",
              "      <td>3.1005</td>\n",
              "      <td>D</td>\n",
              "    </tr>\n",
              "    <tr>\n",
              "      <th>4</th>\n",
              "      <td>2006</td>\n",
              "      <td>2.4854</td>\n",
              "      <td>P</td>\n",
              "    </tr>\n",
              "    <tr>\n",
              "      <th>5</th>\n",
              "      <td>1996</td>\n",
              "      <td>2.5204</td>\n",
              "      <td>P</td>\n",
              "    </tr>\n",
              "    <tr>\n",
              "      <th>6</th>\n",
              "      <td>1999</td>\n",
              "      <td>2.5070</td>\n",
              "      <td>D</td>\n",
              "    </tr>\n",
              "    <tr>\n",
              "      <th>7</th>\n",
              "      <td>2002</td>\n",
              "      <td>2.4943</td>\n",
              "      <td>D</td>\n",
              "    </tr>\n",
              "    <tr>\n",
              "      <th>8</th>\n",
              "      <td>2001</td>\n",
              "      <td>2.4994</td>\n",
              "      <td>D</td>\n",
              "    </tr>\n",
              "    <tr>\n",
              "      <th>9</th>\n",
              "      <td>2001</td>\n",
              "      <td>2.4943</td>\n",
              "      <td>D</td>\n",
              "    </tr>\n",
              "  </tbody>\n",
              "</table>\n",
              "</div>\n",
              "    <div class=\"colab-df-buttons\">\n",
              "\n",
              "  <div class=\"colab-df-container\">\n",
              "    <button class=\"colab-df-convert\" onclick=\"convertToInteractive('df-89ed7e22-e25a-4ac3-90a9-81c08776ebfe')\"\n",
              "            title=\"Convert this dataframe to an interactive table.\"\n",
              "            style=\"display:none;\">\n",
              "\n",
              "  <svg xmlns=\"http://www.w3.org/2000/svg\" height=\"24px\" viewBox=\"0 -960 960 960\">\n",
              "    <path d=\"M120-120v-720h720v720H120Zm60-500h600v-160H180v160Zm220 220h160v-160H400v160Zm0 220h160v-160H400v160ZM180-400h160v-160H180v160Zm440 0h160v-160H620v160ZM180-180h160v-160H180v160Zm440 0h160v-160H620v160Z\"/>\n",
              "  </svg>\n",
              "    </button>\n",
              "\n",
              "  <style>\n",
              "    .colab-df-container {\n",
              "      display:flex;\n",
              "      gap: 12px;\n",
              "    }\n",
              "\n",
              "    .colab-df-convert {\n",
              "      background-color: #E8F0FE;\n",
              "      border: none;\n",
              "      border-radius: 50%;\n",
              "      cursor: pointer;\n",
              "      display: none;\n",
              "      fill: #1967D2;\n",
              "      height: 32px;\n",
              "      padding: 0 0 0 0;\n",
              "      width: 32px;\n",
              "    }\n",
              "\n",
              "    .colab-df-convert:hover {\n",
              "      background-color: #E2EBFA;\n",
              "      box-shadow: 0px 1px 2px rgba(60, 64, 67, 0.3), 0px 1px 3px 1px rgba(60, 64, 67, 0.15);\n",
              "      fill: #174EA6;\n",
              "    }\n",
              "\n",
              "    .colab-df-buttons div {\n",
              "      margin-bottom: 4px;\n",
              "    }\n",
              "\n",
              "    [theme=dark] .colab-df-convert {\n",
              "      background-color: #3B4455;\n",
              "      fill: #D2E3FC;\n",
              "    }\n",
              "\n",
              "    [theme=dark] .colab-df-convert:hover {\n",
              "      background-color: #434B5C;\n",
              "      box-shadow: 0px 1px 3px 1px rgba(0, 0, 0, 0.15);\n",
              "      filter: drop-shadow(0px 1px 2px rgba(0, 0, 0, 0.3));\n",
              "      fill: #FFFFFF;\n",
              "    }\n",
              "  </style>\n",
              "\n",
              "    <script>\n",
              "      const buttonEl =\n",
              "        document.querySelector('#df-89ed7e22-e25a-4ac3-90a9-81c08776ebfe button.colab-df-convert');\n",
              "      buttonEl.style.display =\n",
              "        google.colab.kernel.accessAllowed ? 'block' : 'none';\n",
              "\n",
              "      async function convertToInteractive(key) {\n",
              "        const element = document.querySelector('#df-89ed7e22-e25a-4ac3-90a9-81c08776ebfe');\n",
              "        const dataTable =\n",
              "          await google.colab.kernel.invokeFunction('convertToInteractive',\n",
              "                                                    [key], {});\n",
              "        if (!dataTable) return;\n",
              "\n",
              "        const docLinkHtml = 'Like what you see? Visit the ' +\n",
              "          '<a target=\"_blank\" href=https://colab.research.google.com/notebooks/data_table.ipynb>data table notebook</a>'\n",
              "          + ' to learn more about interactive tables.';\n",
              "        element.innerHTML = '';\n",
              "        dataTable['output_type'] = 'display_data';\n",
              "        await google.colab.output.renderOutput(dataTable, element);\n",
              "        const docLink = document.createElement('div');\n",
              "        docLink.innerHTML = docLinkHtml;\n",
              "        element.appendChild(docLink);\n",
              "      }\n",
              "    </script>\n",
              "  </div>\n",
              "\n",
              "\n",
              "<div id=\"df-367ca53e-8678-40d6-970c-7cf1d1bd2bdc\">\n",
              "  <button class=\"colab-df-quickchart\" onclick=\"quickchart('df-367ca53e-8678-40d6-970c-7cf1d1bd2bdc')\"\n",
              "            title=\"Suggest charts\"\n",
              "            style=\"display:none;\">\n",
              "\n",
              "<svg xmlns=\"http://www.w3.org/2000/svg\" height=\"24px\"viewBox=\"0 0 24 24\"\n",
              "     width=\"24px\">\n",
              "    <g>\n",
              "        <path d=\"M19 3H5c-1.1 0-2 .9-2 2v14c0 1.1.9 2 2 2h14c1.1 0 2-.9 2-2V5c0-1.1-.9-2-2-2zM9 17H7v-7h2v7zm4 0h-2V7h2v10zm4 0h-2v-4h2v4z\"/>\n",
              "    </g>\n",
              "</svg>\n",
              "  </button>\n",
              "\n",
              "<style>\n",
              "  .colab-df-quickchart {\n",
              "      --bg-color: #E8F0FE;\n",
              "      --fill-color: #1967D2;\n",
              "      --hover-bg-color: #E2EBFA;\n",
              "      --hover-fill-color: #174EA6;\n",
              "      --disabled-fill-color: #AAA;\n",
              "      --disabled-bg-color: #DDD;\n",
              "  }\n",
              "\n",
              "  [theme=dark] .colab-df-quickchart {\n",
              "      --bg-color: #3B4455;\n",
              "      --fill-color: #D2E3FC;\n",
              "      --hover-bg-color: #434B5C;\n",
              "      --hover-fill-color: #FFFFFF;\n",
              "      --disabled-bg-color: #3B4455;\n",
              "      --disabled-fill-color: #666;\n",
              "  }\n",
              "\n",
              "  .colab-df-quickchart {\n",
              "    background-color: var(--bg-color);\n",
              "    border: none;\n",
              "    border-radius: 50%;\n",
              "    cursor: pointer;\n",
              "    display: none;\n",
              "    fill: var(--fill-color);\n",
              "    height: 32px;\n",
              "    padding: 0;\n",
              "    width: 32px;\n",
              "  }\n",
              "\n",
              "  .colab-df-quickchart:hover {\n",
              "    background-color: var(--hover-bg-color);\n",
              "    box-shadow: 0 1px 2px rgba(60, 64, 67, 0.3), 0 1px 3px 1px rgba(60, 64, 67, 0.15);\n",
              "    fill: var(--button-hover-fill-color);\n",
              "  }\n",
              "\n",
              "  .colab-df-quickchart-complete:disabled,\n",
              "  .colab-df-quickchart-complete:disabled:hover {\n",
              "    background-color: var(--disabled-bg-color);\n",
              "    fill: var(--disabled-fill-color);\n",
              "    box-shadow: none;\n",
              "  }\n",
              "\n",
              "  .colab-df-spinner {\n",
              "    border: 2px solid var(--fill-color);\n",
              "    border-color: transparent;\n",
              "    border-bottom-color: var(--fill-color);\n",
              "    animation:\n",
              "      spin 1s steps(1) infinite;\n",
              "  }\n",
              "\n",
              "  @keyframes spin {\n",
              "    0% {\n",
              "      border-color: transparent;\n",
              "      border-bottom-color: var(--fill-color);\n",
              "      border-left-color: var(--fill-color);\n",
              "    }\n",
              "    20% {\n",
              "      border-color: transparent;\n",
              "      border-left-color: var(--fill-color);\n",
              "      border-top-color: var(--fill-color);\n",
              "    }\n",
              "    30% {\n",
              "      border-color: transparent;\n",
              "      border-left-color: var(--fill-color);\n",
              "      border-top-color: var(--fill-color);\n",
              "      border-right-color: var(--fill-color);\n",
              "    }\n",
              "    40% {\n",
              "      border-color: transparent;\n",
              "      border-right-color: var(--fill-color);\n",
              "      border-top-color: var(--fill-color);\n",
              "    }\n",
              "    60% {\n",
              "      border-color: transparent;\n",
              "      border-right-color: var(--fill-color);\n",
              "    }\n",
              "    80% {\n",
              "      border-color: transparent;\n",
              "      border-right-color: var(--fill-color);\n",
              "      border-bottom-color: var(--fill-color);\n",
              "    }\n",
              "    90% {\n",
              "      border-color: transparent;\n",
              "      border-bottom-color: var(--fill-color);\n",
              "    }\n",
              "  }\n",
              "</style>\n",
              "\n",
              "  <script>\n",
              "    async function quickchart(key) {\n",
              "      const quickchartButtonEl =\n",
              "        document.querySelector('#' + key + ' button');\n",
              "      quickchartButtonEl.disabled = true;  // To prevent multiple clicks.\n",
              "      quickchartButtonEl.classList.add('colab-df-spinner');\n",
              "      try {\n",
              "        const charts = await google.colab.kernel.invokeFunction(\n",
              "            'suggestCharts', [key], {});\n",
              "      } catch (error) {\n",
              "        console.error('Error during call to suggestCharts:', error);\n",
              "      }\n",
              "      quickchartButtonEl.classList.remove('colab-df-spinner');\n",
              "      quickchartButtonEl.classList.add('colab-df-quickchart-complete');\n",
              "    }\n",
              "    (() => {\n",
              "      let quickchartButtonEl =\n",
              "        document.querySelector('#df-367ca53e-8678-40d6-970c-7cf1d1bd2bdc button');\n",
              "      quickchartButtonEl.style.display =\n",
              "        google.colab.kernel.accessAllowed ? 'block' : 'none';\n",
              "    })();\n",
              "  </script>\n",
              "</div>\n",
              "\n",
              "    </div>\n",
              "  </div>\n"
            ],
            "application/vnd.google.colaboratory.intrinsic+json": {
              "type": "dataframe",
              "summary": "{\n  \"name\": \"#Take the \",\n  \"rows\": 10,\n  \"fields\": [\n    {\n      \"column\": \"Year\",\n      \"properties\": {\n        \"dtype\": \"number\",\n        \"std\": 9,\n        \"min\": 1977,\n        \"max\": 2006,\n        \"num_unique_values\": 8,\n        \"samples\": [\n          2000,\n          1999,\n          1983\n        ],\n        \"semantic_type\": \"\",\n        \"description\": \"\"\n      }\n    },\n    {\n      \"column\": \"Mass\",\n      \"properties\": {\n        \"dtype\": \"number\",\n        \"std\": 0.18891595456416294,\n        \"min\": 2.4854,\n        \"max\": 3.1005,\n        \"num_unique_values\": 9,\n        \"samples\": [\n          2.4943,\n          2.501,\n          2.5204\n        ],\n        \"semantic_type\": \"\",\n        \"description\": \"\"\n      }\n    },\n    {\n      \"column\": \"Mint\",\n      \"properties\": {\n        \"dtype\": \"category\",\n        \"num_unique_values\": 2,\n        \"samples\": [\n          \"P\",\n          \"D\"\n        ],\n        \"semantic_type\": \"\",\n        \"description\": \"\"\n      }\n    }\n  ]\n}"
            }
          },
          "metadata": {},
          "execution_count": 24
        }
      ]
    },
    {
      "cell_type": "markdown",
      "source": [
        "That is a lot of data. Click on the sparkly wand in the top corner and it will let you see each row of data.\n",
        "\n",
        "We can also tell it to print just a few lines. Go back up and change the command to data.head(5) after the data command.\n",
        "\n",
        "What happens to our data table?"
      ],
      "metadata": {
        "id": "BmhifGR_ojMD"
      }
    },
    {
      "cell_type": "markdown",
      "source": [
        "Matplotlib is the library we are going to use to create a histogram of our penny data.\n",
        "\n",
        "In the code box below, hover your mouse over the parentheses. There is a nice little informational box that will pop up and let you know what we need to add to the box in order to create our histogram.\n",
        "\n",
        "The important ones are the first three (x, bins=None, range=None)\n"
      ],
      "metadata": {
        "id": "9IlsEX_tpfs_"
      }
    },
    {
      "cell_type": "code",
      "source": [
        "plt.hist(data['Mass'], bins=None, range=None);\n",
        "#Remove inside the parentheses for student version"
      ],
      "metadata": {
        "id": "IhQnXju4poBy",
        "colab": {
          "base_uri": "https://localhost:8080/",
          "height": 430
        },
        "outputId": "74a5a80d-da79-4b03-afb7-74b7b5a8cbfe"
      },
      "execution_count": null,
      "outputs": [
        {
          "output_type": "display_data",
          "data": {
            "text/plain": [
              "<Figure size 640x480 with 1 Axes>"
            ],
            "image/png": "[encoded data removed]"
          },
          "metadata": {}
        }
      ]
    },
    {
      "cell_type": "markdown",
      "source": [
        "Notice that this still doesn't create a histogram for us. We need to define a few things here.\n",
        "\n",
        "First, what do we want to actually graph? There are a few options. If we go back up to our data table, we have three columns. Year, Mass, Mint. We could plot any of these, but for this round, let's go with Mass. Instead of \"x\", we are going to pull from our \"data\" csv file and the Mass column. Delete the \"x\" and type in \"data.['Mass']\n",
        "\n",
        "plt defaults to 10 bins. You can change this to any number, but 10 is typically a good place to start. Delete \"bins-None\" and type in \"10\" (no quotation marks!).\n",
        "\n",
        "For range, you can also change it if you like, but for now, leave it as it is."
      ],
      "metadata": {
        "id": "HpGBSINUqwNy"
      }
    },
    {
      "cell_type": "code",
      "source": [
        "plt.hist(data['Mass'], bins=None, range=None);"
      ],
      "metadata": {
        "colab": {
          "base_uri": "https://localhost:8080/",
          "height": 430
        },
        "id": "Sam02J60r4Nv",
        "outputId": "376011be-b4ba-42a1-f28b-1bebde3271a4"
      },
      "execution_count": null,
      "outputs": [
        {
          "output_type": "display_data",
          "data": {
            "text/plain": [
              "<Figure size 640x480 with 1 Axes>"
            ],
            "image/png": "[encoded data removed]"
          },
          "metadata": {}
        }
      ]
    },
    {
      "cell_type": "markdown",
      "source": [
        "Try changing the number of bins to 20. How does that change each peak location? How does it change the number of events for each bin?\n",
        "\n",
        "You can also set the range for a specific set of values. For example, change \"None\" to \"[2,2.7]\""
      ],
      "metadata": {
        "id": "Z0hWLUYb5i1q"
      }
    },
    {
      "cell_type": "markdown",
      "source": [
        "##Extension\n",
        "If other characteristics were recorded, you might construct histograms for these results. In some cases, you\n",
        "may get more insight by trying “scatter plots” or A vs B type graphs. A graph of mass as a function of one\n",
        "of the other quantities you measured would be a scatter plot. What conclusion can you draw from your new\n",
        "plots? Did any of the new plots contribute to your conclusions? How?"
      ],
      "metadata": {
        "id": "TXiN_ODnh7xk"
      }
    },
    {
      "cell_type": "markdown",
      "source": [
        "Tracie Schroeder and Mike Plucinski"
      ],
      "metadata": {
        "id": "9JecbxuIxXO6"
      }
    }
  ]
}