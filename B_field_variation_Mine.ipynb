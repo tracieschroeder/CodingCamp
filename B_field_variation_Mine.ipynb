{
  "cells": [
    {
      "cell_type": "markdown",
      "metadata": {
        "id": "view-in-github",
        "colab_type": "text"
      },
      "source": [
        "<a href=\"https://colab.research.google.com/github/tracieschroeder/CodingCamp/blob/main/B_field_variation_Mine.ipynb\" target=\"_parent\"><img src=\"https://colab.research.google.com/assets/colab-badge.svg\" alt=\"Open In Colab\"/></a>"
      ]
    },
    {
      "cell_type": "markdown",
      "metadata": {
        "id": "qr5sdc5U_elf"
      },
      "source": [
        "# B-Field Variation\n",
        "Does the magnetic field around your workspace have the same magnitude as outside? Perform an investigation to answer that and replace the **pseudocode** below with a [Holmes' t' analysis](https://docs.google.com/document/d/1cjAfYwbG4IrwirHMPnvo87ZYdPTXBAWQAny4b1eVclE/edit?usp=sharing) of data you collect."
      ]
    },
    {
      "cell_type": "code",
      "execution_count": 1,
      "metadata": {
        "id": "wJv6Z_Hn_elp"
      },
      "outputs": [],
      "source": [
        "# import modules needed\n",
        "import numpy as np\n",
        "import matplotlib as mpl\n",
        "import matplotlib.pyplot as plt\n",
        "import pandas as pd"
      ]
    },
    {
      "cell_type": "code",
      "execution_count": 2,
      "metadata": {
        "id": "sl2u3Z2d_els"
      },
      "outputs": [],
      "source": [
        "# read in data files. Change the \"blob\" in the url to \"raw\". I'm not sure why, probably because I am doing something wrong.\n",
        "left = pd.read_csv(\"https://github.com/tracieschroeder/CodingCamp/raw/main/LHMFComp.csv\")"
      ]
    },
    {
      "cell_type": "code",
      "execution_count": 3,
      "metadata": {
        "id": "plwwIsfnLwsB"
      },
      "outputs": [],
      "source": [
        "# read in data files. Change the \"blob\" in the url to \"raw\"\n",
        "right = pd.read_csv(\"https://github.com/tracieschroeder/CodingCamp/raw/main/RHMFComp.csv\")"
      ]
    },
    {
      "cell_type": "code",
      "execution_count": 4,
      "metadata": {
        "colab": {
          "base_uri": "https://localhost:8080/",
          "height": 143
        },
        "id": "e5fhKvAoLVNm",
        "outputId": "a9b7943d-6dae-47e1-c361-f915b1a50819"
      },
      "outputs": [
        {
          "output_type": "execute_result",
          "data": {
            "text/plain": [
              "   Time (s)  Magnetic Field x (µT)  Magnetic Field y (µT)  \\\n",
              "0  0.033032              17.519199             -38.454399   \n",
              "1  0.043020              17.641199             -37.844398   \n",
              "2  0.053019              18.666000             -37.405201   \n",
              "\n",
              "   Magnetic Field z (µT)  Absolute field (µT)  \n",
              "0             -23.985199            48.589638  \n",
              "1             -24.192600            48.256526  \n",
              "2             -24.680599            48.545861  "
            ],
            "text/html": [
              "\n",
              "  <div id=\"df-9365e474-c116-44eb-8504-0d9f43600e87\" class=\"colab-df-container\">\n",
              "    <div>\n",
              "<style scoped>\n",
              "    .dataframe tbody tr th:only-of-type {\n",
              "        vertical-align: middle;\n",
              "    }\n",
              "\n",
              "    .dataframe tbody tr th {\n",
              "        vertical-align: top;\n",
              "    }\n",
              "\n",
              "    .dataframe thead th {\n",
              "        text-align: right;\n",
              "    }\n",
              "</style>\n",
              "<table border=\"1\" class=\"dataframe\">\n",
              "  <thead>\n",
              "    <tr style=\"text-align: right;\">\n",
              "      <th></th>\n",
              "      <th>Time (s)</th>\n",
              "      <th>Magnetic Field x (µT)</th>\n",
              "      <th>Magnetic Field y (µT)</th>\n",
              "      <th>Magnetic Field z (µT)</th>\n",
              "      <th>Absolute field (µT)</th>\n",
              "    </tr>\n",
              "  </thead>\n",
              "  <tbody>\n",
              "    <tr>\n",
              "      <th>0</th>\n",
              "      <td>0.033032</td>\n",
              "      <td>17.519199</td>\n",
              "      <td>-38.454399</td>\n",
              "      <td>-23.985199</td>\n",
              "      <td>48.589638</td>\n",
              "    </tr>\n",
              "    <tr>\n",
              "      <th>1</th>\n",
              "      <td>0.043020</td>\n",
              "      <td>17.641199</td>\n",
              "      <td>-37.844398</td>\n",
              "      <td>-24.192600</td>\n",
              "      <td>48.256526</td>\n",
              "    </tr>\n",
              "    <tr>\n",
              "      <th>2</th>\n",
              "      <td>0.053019</td>\n",
              "      <td>18.666000</td>\n",
              "      <td>-37.405201</td>\n",
              "      <td>-24.680599</td>\n",
              "      <td>48.545861</td>\n",
              "    </tr>\n",
              "  </tbody>\n",
              "</table>\n",
              "</div>\n",
              "    <div class=\"colab-df-buttons\">\n",
              "\n",
              "  <div class=\"colab-df-container\">\n",
              "    <button class=\"colab-df-convert\" onclick=\"convertToInteractive('df-9365e474-c116-44eb-8504-0d9f43600e87')\"\n",
              "            title=\"Convert this dataframe to an interactive table.\"\n",
              "            style=\"display:none;\">\n",
              "\n",
              "  <svg xmlns=\"http://www.w3.org/2000/svg\" height=\"24px\" viewBox=\"0 -960 960 960\">\n",
              "    <path d=\"M120-120v-720h720v720H120Zm60-500h600v-160H180v160Zm220 220h160v-160H400v160Zm0 220h160v-160H400v160ZM180-400h160v-160H180v160Zm440 0h160v-160H620v160ZM180-180h160v-160H180v160Zm440 0h160v-160H620v160Z\"/>\n",
              "  </svg>\n",
              "    </button>\n",
              "\n",
              "  <style>\n",
              "    .colab-df-container {\n",
              "      display:flex;\n",
              "      gap: 12px;\n",
              "    }\n",
              "\n",
              "    .colab-df-convert {\n",
              "      background-color: #E8F0FE;\n",
              "      border: none;\n",
              "      border-radius: 50%;\n",
              "      cursor: pointer;\n",
              "      display: none;\n",
              "      fill: #1967D2;\n",
              "      height: 32px;\n",
              "      padding: 0 0 0 0;\n",
              "      width: 32px;\n",
              "    }\n",
              "\n",
              "    .colab-df-convert:hover {\n",
              "      background-color: #E2EBFA;\n",
              "      box-shadow: 0px 1px 2px rgba(60, 64, 67, 0.3), 0px 1px 3px 1px rgba(60, 64, 67, 0.15);\n",
              "      fill: #174EA6;\n",
              "    }\n",
              "\n",
              "    .colab-df-buttons div {\n",
              "      margin-bottom: 4px;\n",
              "    }\n",
              "\n",
              "    [theme=dark] .colab-df-convert {\n",
              "      background-color: #3B4455;\n",
              "      fill: #D2E3FC;\n",
              "    }\n",
              "\n",
              "    [theme=dark] .colab-df-convert:hover {\n",
              "      background-color: #434B5C;\n",
              "      box-shadow: 0px 1px 3px 1px rgba(0, 0, 0, 0.15);\n",
              "      filter: drop-shadow(0px 1px 2px rgba(0, 0, 0, 0.3));\n",
              "      fill: #FFFFFF;\n",
              "    }\n",
              "  </style>\n",
              "\n",
              "    <script>\n",
              "      const buttonEl =\n",
              "        document.querySelector('#df-9365e474-c116-44eb-8504-0d9f43600e87 button.colab-df-convert');\n",
              "      buttonEl.style.display =\n",
              "        google.colab.kernel.accessAllowed ? 'block' : 'none';\n",
              "\n",
              "      async function convertToInteractive(key) {\n",
              "        const element = document.querySelector('#df-9365e474-c116-44eb-8504-0d9f43600e87');\n",
              "        const dataTable =\n",
              "          await google.colab.kernel.invokeFunction('convertToInteractive',\n",
              "                                                    [key], {});\n",
              "        if (!dataTable) return;\n",
              "\n",
              "        const docLinkHtml = 'Like what you see? Visit the ' +\n",
              "          '<a target=\"_blank\" href=https://colab.research.google.com/notebooks/data_table.ipynb>data table notebook</a>'\n",
              "          + ' to learn more about interactive tables.';\n",
              "        element.innerHTML = '';\n",
              "        dataTable['output_type'] = 'display_data';\n",
              "        await google.colab.output.renderOutput(dataTable, element);\n",
              "        const docLink = document.createElement('div');\n",
              "        docLink.innerHTML = docLinkHtml;\n",
              "        element.appendChild(docLink);\n",
              "      }\n",
              "    </script>\n",
              "  </div>\n",
              "\n",
              "\n",
              "<div id=\"df-fe39a0b9-718a-4a70-9422-5a8190dbe638\">\n",
              "  <button class=\"colab-df-quickchart\" onclick=\"quickchart('df-fe39a0b9-718a-4a70-9422-5a8190dbe638')\"\n",
              "            title=\"Suggest charts\"\n",
              "            style=\"display:none;\">\n",
              "\n",
              "<svg xmlns=\"http://www.w3.org/2000/svg\" height=\"24px\"viewBox=\"0 0 24 24\"\n",
              "     width=\"24px\">\n",
              "    <g>\n",
              "        <path d=\"M19 3H5c-1.1 0-2 .9-2 2v14c0 1.1.9 2 2 2h14c1.1 0 2-.9 2-2V5c0-1.1-.9-2-2-2zM9 17H7v-7h2v7zm4 0h-2V7h2v10zm4 0h-2v-4h2v4z\"/>\n",
              "    </g>\n",
              "</svg>\n",
              "  </button>\n",
              "\n",
              "<style>\n",
              "  .colab-df-quickchart {\n",
              "      --bg-color: #E8F0FE;\n",
              "      --fill-color: #1967D2;\n",
              "      --hover-bg-color: #E2EBFA;\n",
              "      --hover-fill-color: #174EA6;\n",
              "      --disabled-fill-color: #AAA;\n",
              "      --disabled-bg-color: #DDD;\n",
              "  }\n",
              "\n",
              "  [theme=dark] .colab-df-quickchart {\n",
              "      --bg-color: #3B4455;\n",
              "      --fill-color: #D2E3FC;\n",
              "      --hover-bg-color: #434B5C;\n",
              "      --hover-fill-color: #FFFFFF;\n",
              "      --disabled-bg-color: #3B4455;\n",
              "      --disabled-fill-color: #666;\n",
              "  }\n",
              "\n",
              "  .colab-df-quickchart {\n",
              "    background-color: var(--bg-color);\n",
              "    border: none;\n",
              "    border-radius: 50%;\n",
              "    cursor: pointer;\n",
              "    display: none;\n",
              "    fill: var(--fill-color);\n",
              "    height: 32px;\n",
              "    padding: 0;\n",
              "    width: 32px;\n",
              "  }\n",
              "\n",
              "  .colab-df-quickchart:hover {\n",
              "    background-color: var(--hover-bg-color);\n",
              "    box-shadow: 0 1px 2px rgba(60, 64, 67, 0.3), 0 1px 3px 1px rgba(60, 64, 67, 0.15);\n",
              "    fill: var(--button-hover-fill-color);\n",
              "  }\n",
              "\n",
              "  .colab-df-quickchart-complete:disabled,\n",
              "  .colab-df-quickchart-complete:disabled:hover {\n",
              "    background-color: var(--disabled-bg-color);\n",
              "    fill: var(--disabled-fill-color);\n",
              "    box-shadow: none;\n",
              "  }\n",
              "\n",
              "  .colab-df-spinner {\n",
              "    border: 2px solid var(--fill-color);\n",
              "    border-color: transparent;\n",
              "    border-bottom-color: var(--fill-color);\n",
              "    animation:\n",
              "      spin 1s steps(1) infinite;\n",
              "  }\n",
              "\n",
              "  @keyframes spin {\n",
              "    0% {\n",
              "      border-color: transparent;\n",
              "      border-bottom-color: var(--fill-color);\n",
              "      border-left-color: var(--fill-color);\n",
              "    }\n",
              "    20% {\n",
              "      border-color: transparent;\n",
              "      border-left-color: var(--fill-color);\n",
              "      border-top-color: var(--fill-color);\n",
              "    }\n",
              "    30% {\n",
              "      border-color: transparent;\n",
              "      border-left-color: var(--fill-color);\n",
              "      border-top-color: var(--fill-color);\n",
              "      border-right-color: var(--fill-color);\n",
              "    }\n",
              "    40% {\n",
              "      border-color: transparent;\n",
              "      border-right-color: var(--fill-color);\n",
              "      border-top-color: var(--fill-color);\n",
              "    }\n",
              "    60% {\n",
              "      border-color: transparent;\n",
              "      border-right-color: var(--fill-color);\n",
              "    }\n",
              "    80% {\n",
              "      border-color: transparent;\n",
              "      border-right-color: var(--fill-color);\n",
              "      border-bottom-color: var(--fill-color);\n",
              "    }\n",
              "    90% {\n",
              "      border-color: transparent;\n",
              "      border-bottom-color: var(--fill-color);\n",
              "    }\n",
              "  }\n",
              "</style>\n",
              "\n",
              "  <script>\n",
              "    async function quickchart(key) {\n",
              "      const quickchartButtonEl =\n",
              "        document.querySelector('#' + key + ' button');\n",
              "      quickchartButtonEl.disabled = true;  // To prevent multiple clicks.\n",
              "      quickchartButtonEl.classList.add('colab-df-spinner');\n",
              "      try {\n",
              "        const charts = await google.colab.kernel.invokeFunction(\n",
              "            'suggestCharts', [key], {});\n",
              "      } catch (error) {\n",
              "        console.error('Error during call to suggestCharts:', error);\n",
              "      }\n",
              "      quickchartButtonEl.classList.remove('colab-df-spinner');\n",
              "      quickchartButtonEl.classList.add('colab-df-quickchart-complete');\n",
              "    }\n",
              "    (() => {\n",
              "      let quickchartButtonEl =\n",
              "        document.querySelector('#df-fe39a0b9-718a-4a70-9422-5a8190dbe638 button');\n",
              "      quickchartButtonEl.style.display =\n",
              "        google.colab.kernel.accessAllowed ? 'block' : 'none';\n",
              "    })();\n",
              "  </script>\n",
              "</div>\n",
              "\n",
              "    </div>\n",
              "  </div>\n"
            ],
            "application/vnd.google.colaboratory.intrinsic+json": {
              "type": "dataframe",
              "variable_name": "left",
              "summary": "{\n  \"name\": \"left\",\n  \"rows\": 1193,\n  \"fields\": [\n    {\n      \"column\": \"Time (s)\",\n      \"properties\": {\n        \"dtype\": \"number\",\n        \"std\": 3.4453376722452442,\n        \"min\": 0.033032001,\n        \"max\": 11.95301882,\n        \"num_unique_values\": 1193,\n        \"samples\": [\n          5.933031757,\n          6.733019305,\n          4.353031757\n        ],\n        \"semantic_type\": \"\",\n        \"description\": \"\"\n      }\n    },\n    {\n      \"column\": \"Magnetic Field x (\\u00b5T)\",\n      \"properties\": {\n        \"dtype\": \"number\",\n        \"std\": 1.7724062067420996,\n        \"min\": 3.281800032,\n        \"max\": 20.41059875,\n        \"num_unique_values\": 434,\n        \"samples\": [\n          10.50419998,\n          11.66319942,\n          8.881599426\n        ],\n        \"semantic_type\": \"\",\n        \"description\": \"\"\n      }\n    },\n    {\n      \"column\": \"Magnetic Field y (\\u00b5T)\",\n      \"properties\": {\n        \"dtype\": \"number\",\n        \"std\": 1.4712034544248653,\n        \"min\": -39.88179779,\n        \"max\": -28.1697998,\n        \"num_unique_values\": 279,\n        \"samples\": [\n          -36.31940079,\n          -32.35440063,\n          -29.57279968\n        ],\n        \"semantic_type\": \"\",\n        \"description\": \"\"\n      }\n    },\n    {\n      \"column\": \"Magnetic Field z (\\u00b5T)\",\n      \"properties\": {\n        \"dtype\": \"number\",\n        \"std\": 1.7618725776425028,\n        \"min\": -42.21199799,\n        \"max\": -23.03359985,\n        \"num_unique_values\": 328,\n        \"samples\": [\n          -31.85419846,\n          -31.03679848,\n          -30.02419853\n        ],\n        \"semantic_type\": \"\",\n        \"description\": \"\"\n      }\n    },\n    {\n      \"column\": \"Absolute field (\\u00b5T)\",\n      \"properties\": {\n        \"dtype\": \"number\",\n        \"std\": 1.2458254502937427,\n        \"min\": 42.28821582,\n        \"max\": 53.98101989,\n        \"num_unique_values\": 1149,\n        \"samples\": [\n          45.2153881,\n          43.94062156,\n          45.38338345\n        ],\n        \"semantic_type\": \"\",\n        \"description\": \"\"\n      }\n    }\n  ]\n}"
            }
          },
          "metadata": {},
          "execution_count": 4
        }
      ],
      "source": [
        "left.head(3)"
      ]
    },
    {
      "cell_type": "code",
      "execution_count": 5,
      "metadata": {
        "colab": {
          "base_uri": "https://localhost:8080/",
          "height": 143
        },
        "id": "3biMGBLpNLqC",
        "outputId": "0e24e880-3876-4847-a2d4-204f5d0f16b5"
      },
      "outputs": [
        {
          "output_type": "execute_result",
          "data": {
            "text/plain": [
              "   Time (s)  Magnetic Field x (µT)  Magnetic Field y (µT)  \\\n",
              "0  0.036674                 10.004             -49.617397   \n",
              "1  0.046677                 10.370             -49.080601   \n",
              "2  0.056677                 10.675             -48.885399   \n",
              "\n",
              "   Magnetic Field z (µT)  Absolute field (µT)  \n",
              "0                -1.4274            50.635991  \n",
              "1                -2.8548            50.245320  \n",
              "2                -3.0378            50.129493  "
            ],
            "text/html": [
              "\n",
              "  <div id=\"df-50a602af-c66c-4194-9a1e-a0c81ca688a1\" class=\"colab-df-container\">\n",
              "    <div>\n",
              "<style scoped>\n",
              "    .dataframe tbody tr th:only-of-type {\n",
              "        vertical-align: middle;\n",
              "    }\n",
              "\n",
              "    .dataframe tbody tr th {\n",
              "        vertical-align: top;\n",
              "    }\n",
              "\n",
              "    .dataframe thead th {\n",
              "        text-align: right;\n",
              "    }\n",
              "</style>\n",
              "<table border=\"1\" class=\"dataframe\">\n",
              "  <thead>\n",
              "    <tr style=\"text-align: right;\">\n",
              "      <th></th>\n",
              "      <th>Time (s)</th>\n",
              "      <th>Magnetic Field x (µT)</th>\n",
              "      <th>Magnetic Field y (µT)</th>\n",
              "      <th>Magnetic Field z (µT)</th>\n",
              "      <th>Absolute field (µT)</th>\n",
              "    </tr>\n",
              "  </thead>\n",
              "  <tbody>\n",
              "    <tr>\n",
              "      <th>0</th>\n",
              "      <td>0.036674</td>\n",
              "      <td>10.004</td>\n",
              "      <td>-49.617397</td>\n",
              "      <td>-1.4274</td>\n",
              "      <td>50.635991</td>\n",
              "    </tr>\n",
              "    <tr>\n",
              "      <th>1</th>\n",
              "      <td>0.046677</td>\n",
              "      <td>10.370</td>\n",
              "      <td>-49.080601</td>\n",
              "      <td>-2.8548</td>\n",
              "      <td>50.245320</td>\n",
              "    </tr>\n",
              "    <tr>\n",
              "      <th>2</th>\n",
              "      <td>0.056677</td>\n",
              "      <td>10.675</td>\n",
              "      <td>-48.885399</td>\n",
              "      <td>-3.0378</td>\n",
              "      <td>50.129493</td>\n",
              "    </tr>\n",
              "  </tbody>\n",
              "</table>\n",
              "</div>\n",
              "    <div class=\"colab-df-buttons\">\n",
              "\n",
              "  <div class=\"colab-df-container\">\n",
              "    <button class=\"colab-df-convert\" onclick=\"convertToInteractive('df-50a602af-c66c-4194-9a1e-a0c81ca688a1')\"\n",
              "            title=\"Convert this dataframe to an interactive table.\"\n",
              "            style=\"display:none;\">\n",
              "\n",
              "  <svg xmlns=\"http://www.w3.org/2000/svg\" height=\"24px\" viewBox=\"0 -960 960 960\">\n",
              "    <path d=\"M120-120v-720h720v720H120Zm60-500h600v-160H180v160Zm220 220h160v-160H400v160Zm0 220h160v-160H400v160ZM180-400h160v-160H180v160Zm440 0h160v-160H620v160ZM180-180h160v-160H180v160Zm440 0h160v-160H620v160Z\"/>\n",
              "  </svg>\n",
              "    </button>\n",
              "\n",
              "  <style>\n",
              "    .colab-df-container {\n",
              "      display:flex;\n",
              "      gap: 12px;\n",
              "    }\n",
              "\n",
              "    .colab-df-convert {\n",
              "      background-color: #E8F0FE;\n",
              "      border: none;\n",
              "      border-radius: 50%;\n",
              "      cursor: pointer;\n",
              "      display: none;\n",
              "      fill: #1967D2;\n",
              "      height: 32px;\n",
              "      padding: 0 0 0 0;\n",
              "      width: 32px;\n",
              "    }\n",
              "\n",
              "    .colab-df-convert:hover {\n",
              "      background-color: #E2EBFA;\n",
              "      box-shadow: 0px 1px 2px rgba(60, 64, 67, 0.3), 0px 1px 3px 1px rgba(60, 64, 67, 0.15);\n",
              "      fill: #174EA6;\n",
              "    }\n",
              "\n",
              "    .colab-df-buttons div {\n",
              "      margin-bottom: 4px;\n",
              "    }\n",
              "\n",
              "    [theme=dark] .colab-df-convert {\n",
              "      background-color: #3B4455;\n",
              "      fill: #D2E3FC;\n",
              "    }\n",
              "\n",
              "    [theme=dark] .colab-df-convert:hover {\n",
              "      background-color: #434B5C;\n",
              "      box-shadow: 0px 1px 3px 1px rgba(0, 0, 0, 0.15);\n",
              "      filter: drop-shadow(0px 1px 2px rgba(0, 0, 0, 0.3));\n",
              "      fill: #FFFFFF;\n",
              "    }\n",
              "  </style>\n",
              "\n",
              "    <script>\n",
              "      const buttonEl =\n",
              "        document.querySelector('#df-50a602af-c66c-4194-9a1e-a0c81ca688a1 button.colab-df-convert');\n",
              "      buttonEl.style.display =\n",
              "        google.colab.kernel.accessAllowed ? 'block' : 'none';\n",
              "\n",
              "      async function convertToInteractive(key) {\n",
              "        const element = document.querySelector('#df-50a602af-c66c-4194-9a1e-a0c81ca688a1');\n",
              "        const dataTable =\n",
              "          await google.colab.kernel.invokeFunction('convertToInteractive',\n",
              "                                                    [key], {});\n",
              "        if (!dataTable) return;\n",
              "\n",
              "        const docLinkHtml = 'Like what you see? Visit the ' +\n",
              "          '<a target=\"_blank\" href=https://colab.research.google.com/notebooks/data_table.ipynb>data table notebook</a>'\n",
              "          + ' to learn more about interactive tables.';\n",
              "        element.innerHTML = '';\n",
              "        dataTable['output_type'] = 'display_data';\n",
              "        await google.colab.output.renderOutput(dataTable, element);\n",
              "        const docLink = document.createElement('div');\n",
              "        docLink.innerHTML = docLinkHtml;\n",
              "        element.appendChild(docLink);\n",
              "      }\n",
              "    </script>\n",
              "  </div>\n",
              "\n",
              "\n",
              "<div id=\"df-c8c38eae-64c8-42ba-acaa-2af0796c1666\">\n",
              "  <button class=\"colab-df-quickchart\" onclick=\"quickchart('df-c8c38eae-64c8-42ba-acaa-2af0796c1666')\"\n",
              "            title=\"Suggest charts\"\n",
              "            style=\"display:none;\">\n",
              "\n",
              "<svg xmlns=\"http://www.w3.org/2000/svg\" height=\"24px\"viewBox=\"0 0 24 24\"\n",
              "     width=\"24px\">\n",
              "    <g>\n",
              "        <path d=\"M19 3H5c-1.1 0-2 .9-2 2v14c0 1.1.9 2 2 2h14c1.1 0 2-.9 2-2V5c0-1.1-.9-2-2-2zM9 17H7v-7h2v7zm4 0h-2V7h2v10zm4 0h-2v-4h2v4z\"/>\n",
              "    </g>\n",
              "</svg>\n",
              "  </button>\n",
              "\n",
              "<style>\n",
              "  .colab-df-quickchart {\n",
              "      --bg-color: #E8F0FE;\n",
              "      --fill-color: #1967D2;\n",
              "      --hover-bg-color: #E2EBFA;\n",
              "      --hover-fill-color: #174EA6;\n",
              "      --disabled-fill-color: #AAA;\n",
              "      --disabled-bg-color: #DDD;\n",
              "  }\n",
              "\n",
              "  [theme=dark] .colab-df-quickchart {\n",
              "      --bg-color: #3B4455;\n",
              "      --fill-color: #D2E3FC;\n",
              "      --hover-bg-color: #434B5C;\n",
              "      --hover-fill-color: #FFFFFF;\n",
              "      --disabled-bg-color: #3B4455;\n",
              "      --disabled-fill-color: #666;\n",
              "  }\n",
              "\n",
              "  .colab-df-quickchart {\n",
              "    background-color: var(--bg-color);\n",
              "    border: none;\n",
              "    border-radius: 50%;\n",
              "    cursor: pointer;\n",
              "    display: none;\n",
              "    fill: var(--fill-color);\n",
              "    height: 32px;\n",
              "    padding: 0;\n",
              "    width: 32px;\n",
              "  }\n",
              "\n",
              "  .colab-df-quickchart:hover {\n",
              "    background-color: var(--hover-bg-color);\n",
              "    box-shadow: 0 1px 2px rgba(60, 64, 67, 0.3), 0 1px 3px 1px rgba(60, 64, 67, 0.15);\n",
              "    fill: var(--button-hover-fill-color);\n",
              "  }\n",
              "\n",
              "  .colab-df-quickchart-complete:disabled,\n",
              "  .colab-df-quickchart-complete:disabled:hover {\n",
              "    background-color: var(--disabled-bg-color);\n",
              "    fill: var(--disabled-fill-color);\n",
              "    box-shadow: none;\n",
              "  }\n",
              "\n",
              "  .colab-df-spinner {\n",
              "    border: 2px solid var(--fill-color);\n",
              "    border-color: transparent;\n",
              "    border-bottom-color: var(--fill-color);\n",
              "    animation:\n",
              "      spin 1s steps(1) infinite;\n",
              "  }\n",
              "\n",
              "  @keyframes spin {\n",
              "    0% {\n",
              "      border-color: transparent;\n",
              "      border-bottom-color: var(--fill-color);\n",
              "      border-left-color: var(--fill-color);\n",
              "    }\n",
              "    20% {\n",
              "      border-color: transparent;\n",
              "      border-left-color: var(--fill-color);\n",
              "      border-top-color: var(--fill-color);\n",
              "    }\n",
              "    30% {\n",
              "      border-color: transparent;\n",
              "      border-left-color: var(--fill-color);\n",
              "      border-top-color: var(--fill-color);\n",
              "      border-right-color: var(--fill-color);\n",
              "    }\n",
              "    40% {\n",
              "      border-color: transparent;\n",
              "      border-right-color: var(--fill-color);\n",
              "      border-top-color: var(--fill-color);\n",
              "    }\n",
              "    60% {\n",
              "      border-color: transparent;\n",
              "      border-right-color: var(--fill-color);\n",
              "    }\n",
              "    80% {\n",
              "      border-color: transparent;\n",
              "      border-right-color: var(--fill-color);\n",
              "      border-bottom-color: var(--fill-color);\n",
              "    }\n",
              "    90% {\n",
              "      border-color: transparent;\n",
              "      border-bottom-color: var(--fill-color);\n",
              "    }\n",
              "  }\n",
              "</style>\n",
              "\n",
              "  <script>\n",
              "    async function quickchart(key) {\n",
              "      const quickchartButtonEl =\n",
              "        document.querySelector('#' + key + ' button');\n",
              "      quickchartButtonEl.disabled = true;  // To prevent multiple clicks.\n",
              "      quickchartButtonEl.classList.add('colab-df-spinner');\n",
              "      try {\n",
              "        const charts = await google.colab.kernel.invokeFunction(\n",
              "            'suggestCharts', [key], {});\n",
              "      } catch (error) {\n",
              "        console.error('Error during call to suggestCharts:', error);\n",
              "      }\n",
              "      quickchartButtonEl.classList.remove('colab-df-spinner');\n",
              "      quickchartButtonEl.classList.add('colab-df-quickchart-complete');\n",
              "    }\n",
              "    (() => {\n",
              "      let quickchartButtonEl =\n",
              "        document.querySelector('#df-c8c38eae-64c8-42ba-acaa-2af0796c1666 button');\n",
              "      quickchartButtonEl.style.display =\n",
              "        google.colab.kernel.accessAllowed ? 'block' : 'none';\n",
              "    })();\n",
              "  </script>\n",
              "</div>\n",
              "\n",
              "    </div>\n",
              "  </div>\n"
            ],
            "application/vnd.google.colaboratory.intrinsic+json": {
              "type": "dataframe",
              "variable_name": "right",
              "summary": "{\n  \"name\": \"right\",\n  \"rows\": 862,\n  \"fields\": [\n    {\n      \"column\": \"Time (s)\",\n      \"properties\": {\n        \"dtype\": \"number\",\n        \"std\": 2.489822713125276,\n        \"min\": 0.036673655,\n        \"max\": 8.646676828,\n        \"num_unique_values\": 862,\n        \"samples\": [\n          7.186677317,\n          6.086677072,\n          1.236677072\n        ],\n        \"semantic_type\": \"\",\n        \"description\": \"\"\n      }\n    },\n    {\n      \"column\": \"Magnetic Field x (\\u00b5T)\",\n      \"properties\": {\n        \"dtype\": \"number\",\n        \"std\": 2.653023407968347,\n        \"min\": -1.73239994,\n        \"max\": 20.71559906,\n        \"num_unique_values\": 460,\n        \"samples\": [\n          12.19999981,\n          13.39559937,\n          9.723400116\n        ],\n        \"semantic_type\": \"\",\n        \"description\": \"\"\n      }\n    },\n    {\n      \"column\": \"Magnetic Field y (\\u00b5T)\",\n      \"properties\": {\n        \"dtype\": \"number\",\n        \"std\": 7.192565340498282,\n        \"min\": -55.32699966,\n        \"max\": -18.54399872,\n        \"num_unique_values\": 443,\n        \"samples\": [\n          -24.90019989,\n          -22.53339958,\n          -39.95499802\n        ],\n        \"semantic_type\": \"\",\n        \"description\": \"\"\n      }\n    },\n    {\n      \"column\": \"Magnetic Field z (\\u00b5T)\",\n      \"properties\": {\n        \"dtype\": \"number\",\n        \"std\": 5.846854591385061,\n        \"min\": -43.38319778,\n        \"max\": -1.427399993,\n        \"num_unique_values\": 504,\n        \"samples\": [\n          -32.51300049,\n          -32.63499832,\n          -27.62080002\n        ],\n        \"semantic_type\": \"\",\n        \"description\": \"\"\n      }\n    },\n    {\n      \"column\": \"Absolute field (\\u00b5T)\",\n      \"properties\": {\n        \"dtype\": \"number\",\n        \"std\": 4.150705556755472,\n        \"min\": 38.73360015,\n        \"max\": 65.23041943,\n        \"num_unique_values\": 853,\n        \"samples\": [\n          58.41045079,\n          41.48541579,\n          41.29302829\n        ],\n        \"semantic_type\": \"\",\n        \"description\": \"\"\n      }\n    }\n  ]\n}"
            }
          },
          "metadata": {},
          "execution_count": 5
        }
      ],
      "source": [
        "right.head(3)"
      ]
    },
    {
      "cell_type": "code",
      "execution_count": 6,
      "metadata": {
        "id": "utOgXI0W_elu",
        "colab": {
          "base_uri": "https://localhost:8080/"
        },
        "outputId": "1755ec94-84af-4288-fa6d-8ef1fedf9d13"
      },
      "outputs": [
        {
          "output_type": "stream",
          "name": "stdout",
          "text": [
            "Mean laptop left (absolute) =  44.707262957091366\n",
            "Mean laptop right (absolute) =  44.707262957091366\n",
            "Mean laptop left (x) =  10.819068202997485\n",
            "Mean laptop right (x) =  10.51313040978717\n",
            "Mean laptop left (y) =  -30.578588687183576\n",
            "mMean laptop right (y) =  -26.96521224235499\n",
            "Mean laptop left (z) =  -30.655909862171\n",
            "Mean laptop right (z) =  -30.807688476038283\n"
          ]
        }
      ],
      "source": [
        "# caluclate a Holmes t' to compare the two samples\n",
        "\n",
        "#Part I: Calculate the mean of the data\n",
        "mean_left=np.mean(left['Absolute field (µT)'])\n",
        "mean_right=np.mean(right['Absolute field (µT)'])\n",
        "\n",
        "mean_left_x=np.mean(left['Magnetic Field x (µT)'])\n",
        "mean_right_x=np.mean(right['Magnetic Field x (µT)'])\n",
        "\n",
        "mean_left_y=np.mean(left['Magnetic Field y (µT)'])\n",
        "mean_right_y=np.mean(right['Magnetic Field y (µT)'])\n",
        "\n",
        "mean_left_z=np.mean(left['Magnetic Field z (µT)'])\n",
        "mean_right_z=np.mean(right['Magnetic Field z (µT)'])\n",
        "\n",
        "print(\"Mean laptop left (absolute) = \", mean_left)\n",
        "print(\"Mean laptop right (absolute) = \", mean_left)\n",
        "\n",
        "print(\"Mean laptop left (x) = \", mean_left_x)\n",
        "print(\"Mean laptop right (x) = \", mean_right_x)\n",
        "\n",
        "print(\"Mean laptop left (y) = \", mean_left_y)\n",
        "print(\"mMean laptop right (y) = \", mean_right_y)\n",
        "\n",
        "print(\"Mean laptop left (z) = \", mean_left_z)\n",
        "print(\"Mean laptop right (z) = \", mean_right_z);"
      ]
    },
    {
      "cell_type": "code",
      "execution_count": 7,
      "metadata": {
        "id": "pyO41a8nWn_Y"
      },
      "outputs": [],
      "source": [
        "#np.round(mean_left, decimals=3)  This will round it, but the rounding does not carry on through the entire program"
      ]
    },
    {
      "cell_type": "code",
      "execution_count": 8,
      "metadata": {
        "colab": {
          "base_uri": "https://localhost:8080/"
        },
        "id": "sMy1X-r-RZk3",
        "outputId": "fa3c63d4-71b8-4330-e921-f3cdedc7edc7"
      },
      "outputs": [
        {
          "output_type": "stream",
          "name": "stdout",
          "text": [
            "Mean left absolute:  44.707262957091366 µT\n",
            "Mean right absolute:  43.15557067570765 µT\n",
            "Mean left x:  10.819068202997485 µT\n",
            "Mean right x:  10.51313040978717 µT\n",
            "Mean left y:  -30.578588687183576 µT\n",
            "Mean right y:  -26.96521224235499 µT\n",
            "Mean left z:  -30.655909862171 µT\n",
            "Mean right z:  -30.807688476038283 µT\n"
          ]
        }
      ],
      "source": [
        "print (\"Mean left absolute: \", mean_left, \"µT\")\n",
        "print (\"Mean right absolute: \", mean_right, \"µT\")\n",
        "\n",
        "print (\"Mean left x: \", mean_left_x, \"µT\")\n",
        "print (\"Mean right x: \", mean_right_x, \"µT\")\n",
        "\n",
        "print (\"Mean left y: \", mean_left_y, \"µT\")\n",
        "print (\"Mean right y: \", mean_right_y, \"µT\")\n",
        "\n",
        "print (\"Mean left z: \", mean_left_z, \"µT\")\n",
        "print (\"Mean right z: \", mean_right_z, \"µT\")"
      ]
    },
    {
      "cell_type": "code",
      "execution_count": 9,
      "metadata": {
        "id": "kJMDn9e3Tnzj"
      },
      "outputs": [],
      "source": [
        "#Part II: Calculate the standard deviation\n",
        "std_left=np.std(left['Absolute field (µT)'])\n",
        "std_right=np.std(right['Absolute field (µT)'])\n",
        "\n",
        "std_left_x=np.std(left['Magnetic Field x (µT)'])\n",
        "std_right_x=np.std(right['Magnetic Field x (µT)'])\n",
        "\n",
        "std_left_y=np.std(left['Magnetic Field y (µT)'])\n",
        "std_right_y=np.std(right['Magnetic Field y (µT)'])\n",
        "\n",
        "std_left_z=np.std(left['Magnetic Field z (µT)'])\n",
        "std_right_z=np.std(right['Magnetic Field z (µT)'])"
      ]
    },
    {
      "cell_type": "code",
      "execution_count": 10,
      "metadata": {
        "id": "DY8kRC_9UZXz",
        "colab": {
          "base_uri": "https://localhost:8080/"
        },
        "outputId": "7aba6fd0-2794-4018-bcdd-8ebb345b1bda"
      },
      "outputs": [
        {
          "output_type": "stream",
          "name": "stdout",
          "text": [
            "Standard Deviation left absolute:  1.2453032010776302\n",
            "Standard Deviation right absolute:  4.148297256258699\n",
            "Standard Deviation left x:  1.7716632152163716\n",
            "Standard Deviation right x:  2.6514840847125782\n",
            "Standard Deviation left y:  1.4705867268964345\n",
            "Standard Deviation right y:  7.188392108153625\n",
            "Standard Deviation left z:  1.7611340018072226\n",
            "Standard Deviation right z:  5.843462160237042\n"
          ]
        }
      ],
      "source": [
        "print (\"Standard Deviation left absolute: \", std_left)\n",
        "print (\"Standard Deviation right absolute: \", std_right)\n",
        "\n",
        "print (\"Standard Deviation left x: \", std_left_x)\n",
        "print (\"Standard Deviation right x: \", std_right_x)\n",
        "\n",
        "print (\"Standard Deviation left y: \", std_left_y)\n",
        "print (\"Standard Deviation right y: \", std_right_y)\n",
        "\n",
        "print (\"Standard Deviation left z: \", std_left_z)\n",
        "print (\"Standard Deviation right z: \", std_right_z)"
      ]
    },
    {
      "cell_type": "code",
      "execution_count": 11,
      "metadata": {
        "id": "j76998nQXQd0",
        "colab": {
          "base_uri": "https://localhost:8080/"
        },
        "outputId": "2ddc69b2-538f-4e72-ce6b-cdd747b1d91b"
      },
      "outputs": [
        {
          "output_type": "stream",
          "name": "stdout",
          "text": [
            "Number of trials taken on the left side of the computer: 1193\n",
            "Number of trials taken on the right side of the computer: 862\n"
          ]
        }
      ],
      "source": [
        "#Part III: Number of trials in the sample\n",
        "left_trials=len(left)\n",
        "print(\"Number of trials taken on the left side of the computer:\",left_trials)\n",
        "right_trials=len(right)\n",
        "print(\"Number of trials taken on the right side of the computer:\",right_trials)"
      ]
    },
    {
      "cell_type": "code",
      "execution_count": 12,
      "metadata": {
        "id": "I_hPdpesX7RA"
      },
      "outputs": [],
      "source": [
        "#Part IV: Standard Uncertainty, u\n",
        "#I don't really know what this is. Kinda makes me wish I had taken a stats class.\n",
        "#I found out how to calculate it, but numpy doesn't seem to have it as a function\n",
        "\n",
        "def stu(num,trials):\n",
        "  u=num/np.sqrt(trials)\n",
        "  return u"
      ]
    },
    {
      "cell_type": "code",
      "execution_count": 13,
      "metadata": {
        "id": "34cgH_70bUKr"
      },
      "outputs": [],
      "source": [
        "stu_left=stu(std_left,left_trials)\n",
        "stu_right=stu(std_right,right_trials)\n",
        "\n",
        "stu_left_x=stu(std_left_x,left_trials)\n",
        "stu_right_x=stu(std_right_x,right_trials)\n",
        "\n",
        "stu_left_y=stu(std_left_y,left_trials)\n",
        "stu_right_y=stu(std_right_y,right_trials)\n",
        "\n",
        "stu_left_z=stu(std_left_z,left_trials)\n",
        "stu_right_z=stu(std_right_z,right_trials)"
      ]
    },
    {
      "cell_type": "code",
      "execution_count": 14,
      "metadata": {
        "id": "3aHf3GVrb6hZ",
        "colab": {
          "base_uri": "https://localhost:8080/"
        },
        "outputId": "3ec3a59f-c9f3-461e-edcd-07f146ac3df6"
      },
      "outputs": [
        {
          "output_type": "stream",
          "name": "stdout",
          "text": [
            "Standard Uncertainty of left side absolute:  0.03605411856818271\n",
            "Standard Uncertainty of right side absolute:  0.1412915652507314\n",
            "Standard Uncertainty of left side x:  0.05129333608796927\n",
            "Standard Uncertainty of right side x:  0.09030990631185373\n",
            "Standard Uncertainty of left side y:  0.04257654535091374\n",
            "Standard Uncertainty of right side y:  0.24483760681919925\n",
            "Standard Uncertainty of left side z:  0.05098849345337663\n",
            "Standard Uncertainty of right side z:  0.19902911100636494\n"
          ]
        }
      ],
      "source": [
        "print(\"Standard Uncertainty of left side absolute: \", stu_left)\n",
        "print(\"Standard Uncertainty of right side absolute: \", stu_right)\n",
        "\n",
        "print(\"Standard Uncertainty of left side x: \", stu_left_x)\n",
        "print(\"Standard Uncertainty of right side x: \", stu_right_x)\n",
        "\n",
        "print(\"Standard Uncertainty of left side y: \", stu_left_y)\n",
        "print(\"Standard Uncertainty of right side y: \", stu_right_y)\n",
        "\n",
        "print(\"Standard Uncertainty of left side z: \", stu_left_z)\n",
        "print(\"Standard Uncertainty of right side z: \", stu_right_z)"
      ]
    },
    {
      "cell_type": "code",
      "execution_count": 15,
      "metadata": {
        "id": "IwN1kIbIdIsE"
      },
      "outputs": [],
      "source": [
        "#Part V: Combined Uncertainty\n",
        "#Pythagorating of the two std. uncertainties. Again, don't really know what this means and why we would want to do it, but...statistics...\n",
        "def comb_un(stu1,stu2):\n",
        "  comb=np.sqrt(stu1**2+stu2**2)\n",
        "  return comb"
      ]
    },
    {
      "cell_type": "code",
      "execution_count": 16,
      "metadata": {
        "id": "mxFhllOmiHHR"
      },
      "outputs": [],
      "source": [
        "comb_un_abs=comb_un(stu_left,stu_right)\n",
        "comb_un_x=comb_un(stu_left_x, stu_right_x)\n",
        "comb_un_y=comb_un(stu_left_y, stu_right_y)\n",
        "comb_un_z=comb_un(stu_left_z, stu_right_z)"
      ]
    },
    {
      "cell_type": "code",
      "execution_count": 17,
      "metadata": {
        "id": "61ZTH_GHiYis",
        "colab": {
          "base_uri": "https://localhost:8080/"
        },
        "outputId": "687c168f-deed-443c-f493-cef52691c545"
      },
      "outputs": [
        {
          "output_type": "stream",
          "name": "stdout",
          "text": [
            "Combined Uncertainty Absolute:  0.14581908611951408\n",
            "Combined Uncertainty x:  0.10385993214463973\n",
            "Combined Uncertainty y:  0.248512003587294\n",
            "Combined Uncertainty z:  0.2054565975884663\n"
          ]
        }
      ],
      "source": [
        "print(\"Combined Uncertainty Absolute: \", comb_un_abs)\n",
        "print(\"Combined Uncertainty x: \", comb_un_x)\n",
        "print(\"Combined Uncertainty y: \", comb_un_y)\n",
        "print(\"Combined Uncertainty z: \", comb_un_z)"
      ]
    },
    {
      "cell_type": "code",
      "execution_count": 18,
      "metadata": {
        "id": "m0xqdwQ1jFRg"
      },
      "outputs": [],
      "source": [
        "#Part VI: Holmes t' value\n",
        "#Getting further along into the realm I don't know about\n",
        "def Ht(mean1, mean2, unc):\n",
        "  t=np.abs((mean1-mean2)/unc)\n",
        "  return t"
      ]
    },
    {
      "cell_type": "code",
      "execution_count": 19,
      "metadata": {
        "id": "zY9S77id7RWk"
      },
      "outputs": [],
      "source": [
        "t_abs=Ht(mean_left, mean_right, comb_un_abs)\n",
        "t_x=Ht(mean_left_x, mean_right_x, comb_un_x)\n",
        "t_y=Ht(mean_left_y, mean_right_y, comb_un_y)\n",
        "t_z=Ht(mean_left_z, mean_right_z, comb_un_z)"
      ]
    },
    {
      "cell_type": "code",
      "execution_count": 20,
      "metadata": {
        "id": "18_pAKpR70oe",
        "colab": {
          "base_uri": "https://localhost:8080/"
        },
        "outputId": "1ef077e6-8e47-4d5a-ebfc-5aad06edd2ec"
      },
      "outputs": [
        {
          "output_type": "stream",
          "name": "stdout",
          "text": [
            "Absolute Holmes t': 10.641215239217317\n",
            "x Holmes t': 2.945676806184058\n",
            "y Holmes t': 14.540047935991657\n",
            "z Holmes t': 0.738738087015819\n"
          ]
        }
      ],
      "source": [
        "print(\"Absolute Holmes t':\",t_abs)\n",
        "print(\"x Holmes t':\",t_x)\n",
        "print(\"y Holmes t':\",t_y)\n",
        "print(\"z Holmes t':\",t_z)"
      ]
    },
    {
      "cell_type": "code",
      "execution_count": 32,
      "metadata": {
        "id": "c8BxMvBC_elv",
        "colab": {
          "base_uri": "https://localhost:8080/",
          "height": 491
        },
        "outputId": "3b32768c-6016-42c2-e033-51611a42bd20"
      },
      "outputs": [
        {
          "output_type": "execute_result",
          "data": {
            "text/plain": [
              "''"
            ],
            "application/vnd.google.colaboratory.intrinsic+json": {
              "type": "string"
            }
          },
          "metadata": {},
          "execution_count": 32
        },
        {
          "output_type": "display_data",
          "data": {
            "text/plain": [
              "<Figure size 640x480 with 1 Axes>"
            ],
            "image/png": "[encoded data removed]"
          },
          "metadata": {}
        }
      ],
      "source": [
        "# vizualize data to highlight relevant pattern...which matches what was on my phone.\n",
        "plt.plot(left['Absolute field (µT)'], color='blue')\n",
        "plt.plot(right['Absolute field (µT)'], color='red')\n",
        "plt.title('Comparison of the Magnetic Field on the Left and Right Side of the Computer')\n",
        "plt.ylabel('Absolute field (µT)')\n",
        "plt.xlabel('Time')\n",
        ";"
      ]
    },
    {
      "cell_type": "code",
      "source": [
        "# vizualize data to highlight relvant pattern - Histogram\n",
        "\n",
        "plt.hist(left[\"Absolute field (µT)\"], bins = [40,41,42,43,44,45,46,47,48,49,50,51,52,53,54,55,56,57,58,59,60,61], label = 'b field left', color='lightblue', edgecolor = 'black');\n",
        "plt.hist(right[\"Absolute field (µT)\"], bins = [40,41,42,43,44,45,46,47,48,49,50,51,52,53,54,55,56,57,58,59,60,61], label = 'b field right', color='red', edgecolor = 'black');\n",
        "plt.xlabel('Absolute field (µT)')\n",
        "plt.ylabel('Number of events')\n",
        "plt.title('Comparison of the Magnetic Field on the Left and Right Side of the Computer')\n",
        "plt.legend();"
      ],
      "metadata": {
        "colab": {
          "base_uri": "https://localhost:8080/",
          "height": 472
        },
        "id": "H5gVM2MbDSfx",
        "outputId": "401debad-2366-47cf-9287-24e1c2b9a74b"
      },
      "execution_count": 28,
      "outputs": [
        {
          "output_type": "display_data",
          "data": {
            "text/plain": [
              "<Figure size 640x480 with 1 Axes>"
            ],
            "image/png": "[encoded data removed]"
          },
          "metadata": {}
        }
      ]
    },
    {
      "cell_type": "code",
      "execution_count": 22,
      "metadata": {
        "id": "zm70VktF_elw"
      },
      "outputs": [],
      "source": [
        "# answer the research question in claim-evidence-reasoning style"
      ]
    },
    {
      "cell_type": "markdown",
      "metadata": {
        "id": "-HnyzwWL_elx"
      },
      "source": [
        "# When you're ready ...\n",
        "Check in with a workshop facilitator and give them a link to an interactive version of this notebook. Be sure it doesn't give edit priviledges."
      ]
    }
  ],
  "metadata": {
    "colab": {
      "provenance": [],
      "include_colab_link": true
    },
    "kernelspec": {
      "display_name": "Python 3 (ipykernel)",
      "language": "python",
      "name": "python3"
    },
    "language_info": {
      "codemirror_mode": {
        "name": "ipython",
        "version": 3
      },
      "file_extension": ".py",
      "mimetype": "text/x-python",
      "name": "python",
      "nbconvert_exporter": "python",
      "pygments_lexer": "ipython3",
      "version": "3.9.7"
    }
  },
  "nbformat": 4,
  "nbformat_minor": 0
}