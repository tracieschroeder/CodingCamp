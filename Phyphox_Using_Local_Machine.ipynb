{
  "nbformat": 4,
  "nbformat_minor": 0,
  "metadata": {
    "colab": {
      "private_outputs": true,
      "provenance": [],
      "include_colab_link": true
    },
    "kernelspec": {
      "name": "python3",
      "display_name": "Python 3"
    },
    "language_info": {
      "name": "python"
    }
  },
  "cells": [
    {
      "cell_type": "markdown",
      "metadata": {
        "id": "view-in-github",
        "colab_type": "text"
      },
      "source": [
        "<a href=\"https://colab.research.google.com/github/tracieschroeder/CodingCamp/blob/main/Phyphox_Using_Local_Machine.ipynb\" target=\"_parent\"><img src=\"https://colab.research.google.com/assets/colab-badge.svg\" alt=\"Open In Colab\"/></a>"
      ]
    },
    {
      "cell_type": "markdown",
      "source": [
        "The purpose of this notebook is to use data collected in a mobile app called [Phyphox](https://phyphox.org/). This app uses sensors such as the accelerometer in your mobile device to collect data. That data can be exported as a csv file and analyzed in a colab notebook."
      ],
      "metadata": {
        "id": "mmPqEqkT8OY3"
      }
    },
    {
      "cell_type": "markdown",
      "source": [
        "#Step 1\n",
        "Take data in the app. For example, use the Acceleration option as you ride up or down an elevator.\n",
        "\n",
        "Once you have taken the data, click on the three vertical dots at the top and click on Export Data.\n",
        "\n",
        "Choose Excel and save to your files to a known location. If prompted to extract, say yes.\n",
        "\n",
        "Using your favorite transfer method (for example, bluetooth), move your file to another known location on your computer"
      ],
      "metadata": {
        "id": "oCON6RyH8unF"
      }
    },
    {
      "cell_type": "markdown",
      "source": [
        "# Setup Colab for Analysis"
      ],
      "metadata": {
        "id": "HTgxP9RJiKun"
      }
    },
    {
      "cell_type": "code",
      "source": [
        "# Import useful modules\n",
        "import pandas as pd\n",
        "import numpy as np\n",
        "from matplotlib import pyplot as plt"
      ],
      "metadata": {
        "id": "q-ITYJSbe7pr"
      },
      "execution_count": null,
      "outputs": []
    },
    {
      "cell_type": "markdown",
      "source": [
        "#Importing your csv file"
      ],
      "metadata": {
        "id": "o6LABLSbeAYH"
      }
    },
    {
      "cell_type": "markdown",
      "source": [
        "##⚠️Choose **one (1)** of the following ways to import your data. If you run both of the cells you will get errors and your data will not be imported properly⚠️\n"
      ],
      "metadata": {
        "id": "mxtHe39lgxUV"
      }
    },
    {
      "cell_type": "markdown",
      "source": [
        "## Upload from a local device"
      ],
      "metadata": {
        "id": "j1CTPNA-eUCC"
      }
    },
    {
      "cell_type": "markdown",
      "source": [
        "1. Click the folder icon on the left side of the page\n",
        "2. Select and upload your file\n",
        "3. Use the code below to import the data. (Use pd.read_xls if you have an excel file or pd.read_csv)"
      ],
      "metadata": {
        "id": "mD8ZSjwneXOs"
      }
    },
    {
      "cell_type": "markdown",
      "source": [
        "### Did you upload a zip file?\n",
        "If yes, run this block below to extract the files from it."
      ],
      "metadata": {
        "id": "k9M0AamOlLbO"
      }
    },
    {
      "cell_type": "code",
      "source": [
        "import shutil\n",
        "zip_filename = \"Replace this with the name of your zip file\"\n",
        "\n",
        "# Unzip the zip file to the current working directory (/content/)\n",
        "shutil.unpack_archive(zip_filename, format=\"zip\")"
      ],
      "metadata": {
        "id": "POjDfgGqlK53"
      },
      "execution_count": null,
      "outputs": []
    },
    {
      "cell_type": "markdown",
      "source": [
        "### Load the file\n",
        "You should now see more files appear in the files section on the left. Use your cursor to hover over the file you want, click the 3 dots on the right and choose Copy Path"
      ],
      "metadata": {
        "id": "WKdtHI6zllhR"
      }
    },
    {
      "cell_type": "code",
      "execution_count": null,
      "metadata": {
        "id": "eKAkddsPd9Q2"
      },
      "outputs": [],
      "source": [
        "filename = \"Replace this with the path to your csv file\"\n",
        "data = pd.read_csv(filename)\n",
        "data.head(5)"
      ]
    },
    {
      "cell_type": "markdown",
      "source": [
        "## Cleaning the Data"
      ],
      "metadata": {
        "id": "r9ATYk-gjOCS"
      }
    },
    {
      "cell_type": "markdown",
      "source": [
        "If you want to rename the columns in your table you can use this syntax\n",
        "\n",
        "```python\n",
        "data = data.rename(columns={'old_name1': 'new_name1', 'old_name2': 'new_name2'})\n",
        "```"
      ],
      "metadata": {
        "id": "VlwuJ0tHjR93"
      }
    },
    {
      "cell_type": "code",
      "source": [
        "# Use this block if you want to rename the columns"
      ],
      "metadata": {
        "id": "ymsbkLA-j4IB"
      },
      "execution_count": null,
      "outputs": []
    },
    {
      "cell_type": "markdown",
      "source": [
        "# Analyze your data"
      ],
      "metadata": {
        "id": "e4T6P0rBgBko"
      }
    },
    {
      "cell_type": "code",
      "source": [
        "# Use me to create a graph, or whatever else you need to do!"
      ],
      "metadata": {
        "id": "NCkUCYoWgfxb"
      },
      "execution_count": null,
      "outputs": []
    },
    {
      "cell_type": "markdown",
      "source": [
        "Use me to summarize your results"
      ],
      "metadata": {
        "id": "ldA9i01qgkSN"
      }
    }
  ]
}